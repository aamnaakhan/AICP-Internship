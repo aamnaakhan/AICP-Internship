{
 "cells": [
  {
   "cell_type": "code",
   "execution_count": 1,
   "id": "9ef2ebce-aa4d-423b-8d77-6a2fe20f49a4",
   "metadata": {},
   "outputs": [],
   "source": [
    "import numpy as np"
   ]
  },
  {
   "cell_type": "markdown",
   "id": "ea096933-6132-49e8-bd23-57afb68c69e4",
   "metadata": {},
   "source": [
    "# Q1 - Write a NumPy program to create an array of all even integers from 30 to 70."
   ]
  },
  {
   "cell_type": "code",
   "execution_count": 2,
   "id": "584f137b-7ab3-42f4-963a-8bcddf99d1ff",
   "metadata": {},
   "outputs": [
    {
     "name": "stdout",
     "output_type": "stream",
     "text": [
      "[30 32 34 36 38 40 42 44 46 48 50 52 54 56 58 60 62 64 66 68 70]\n"
     ]
    }
   ],
   "source": [
    "numbers = np.arange(30, 71)\n",
    "even_numbers = numbers[numbers % 2 == 0]\n",
    "print(even_numbers)"
   ]
  },
  {
   "cell_type": "markdown",
   "id": "dc522a26-cc0b-4ce6-b13c-293e9a897762",
   "metadata": {},
   "source": [
    "# Q2 - Write a NumPy program to generate an array of 15 random numbers from a standard normal distribution."
   ]
  },
  {
   "cell_type": "code",
   "execution_count": 6,
   "id": "529cf8c6-5e77-4e5f-92f2-b0cde91f8fc9",
   "metadata": {},
   "outputs": [
    {
     "name": "stdout",
     "output_type": "stream",
     "text": [
      "[ 0.90149578  1.05117896 -0.72196204  0.61601408  0.05508368  1.65829098\n",
      " -0.98105537 -0.11940405 -0.21612102 -1.29703477 -0.18717116 -0.12816475\n",
      " -0.13020322  0.26835751  1.12422289]\n"
     ]
    }
   ],
   "source": [
    "random_numbers = np.random.randn(15)\n",
    "print(random_numbers)"
   ]
  },
  {
   "cell_type": "markdown",
   "id": "6349cfc4-4d19-433a-af6a-ada8601b0408",
   "metadata": {},
   "source": [
    "# Q3 - How to compute the cross-product of two matrices in NumPy?"
   ]
  },
  {
   "cell_type": "code",
   "execution_count": 9,
   "id": "7f6bdf79-7a7c-4162-8ca9-c3950cef6d15",
   "metadata": {},
   "outputs": [
    {
     "name": "stdout",
     "output_type": "stream",
     "text": [
      "Cross-product of the matrices:\n",
      "[[-6 12 -6]\n",
      " [-6 12 -6]]\n"
     ]
    }
   ],
   "source": [
    "matrix1 = np.array([[1, 2, 3],\n",
    "                    [4, 5, 6]])\n",
    "matrix2 = np.array([[7, 8, 9],\n",
    "                    [10, 11, 12]])\n",
    "cross_product = np.cross(matrix1, matrix2)\n",
    "                        \n",
    "print(\"Cross-product of the matrices:\")\n",
    "print(cross_product)"
   ]
  },
  {
   "cell_type": "markdown",
   "id": "6be74149-4dc0-457f-a34d-715b7089ea92",
   "metadata": {},
   "source": [
    "# Q4 - How to compute the determinant of an array using NumPy?"
   ]
  },
  {
   "cell_type": "code",
   "execution_count": 10,
   "id": "fe2a4bd8-83d3-4ebe-93df-13c9e8066b90",
   "metadata": {},
   "outputs": [
    {
     "name": "stdout",
     "output_type": "stream",
     "text": [
      "Determinant of the matrix: -2.0000000000000004\n"
     ]
    }
   ],
   "source": [
    "matrix = np.array([[1, 2],\n",
    "                   [3, 4]])\n",
    "\n",
    "determinant = np.linalg.det(matrix)\n",
    "\n",
    "print(\"Determinant of the matrix:\", determinant)"
   ]
  },
  {
   "cell_type": "markdown",
   "id": "f1e3d7a6-d6c1-4b76-a062-cdd6df21c545",
   "metadata": {},
   "source": [
    "# Q5 - How to create a 3x3x3 array with random values using NumPy?"
   ]
  },
  {
   "cell_type": "code",
   "execution_count": 11,
   "id": "03213ba4-1e26-41e9-bc75-ac3d47d37ffb",
   "metadata": {},
   "outputs": [
    {
     "name": "stdout",
     "output_type": "stream",
     "text": [
      "[[[0.82607896 0.58340975 0.63660101]\n",
      "  [0.20682609 0.61144505 0.74531214]\n",
      "  [0.9604921  0.92690339 0.42679169]]\n",
      "\n",
      " [[0.65364476 0.19681113 0.92276109]\n",
      "  [0.71852807 0.52163564 0.66080668]\n",
      "  [0.75340643 0.46521295 0.39016541]]\n",
      "\n",
      " [[0.31937497 0.0824355  0.57692793]\n",
      "  [0.728694   0.097673   0.13332884]\n",
      "  [0.36587371 0.91222612 0.94230307]]]\n"
     ]
    }
   ],
   "source": [
    "random_array = np.random.rand(3, 3, 3)\n",
    "print(random_array)"
   ]
  },
  {
   "cell_type": "markdown",
   "id": "aeff34b5-d534-4e07-abe7-539541716f49",
   "metadata": {},
   "source": [
    "# Q6 - How to create a 5x5 array with random values and find the minimum and maximum values using NumPy?"
   ]
  },
  {
   "cell_type": "code",
   "execution_count": 12,
   "id": "525d4741-6c8d-419c-b213-7baaac9c4b09",
   "metadata": {},
   "outputs": [
    {
     "name": "stdout",
     "output_type": "stream",
     "text": [
      "\n",
      "Minimum value: 0.006218464036180094\n",
      "Maximum value: 0.9989075101788742\n"
     ]
    }
   ],
   "source": [
    "random_array = np.random.rand(5, 5)\n",
    "min_value = random_array.min()\n",
    "max_value = random_array.max()\n",
    "\n",
    "print(\"\\nMinimum value:\", min_value)\n",
    "print(\"Maximum value:\", max_value)\n"
   ]
  },
  {
   "cell_type": "markdown",
   "id": "deb0209b-760d-4423-92f7-172e5e7c1259",
   "metadata": {},
   "source": [
    "# Q7 - How to compute the mean, standard deviation, and variance of a given array along the second axis in NumPy?"
   ]
  },
  {
   "cell_type": "code",
   "execution_count": 13,
   "id": "ec850009-a45c-45e1-8074-872b8a397abe",
   "metadata": {},
   "outputs": [
    {
     "name": "stdout",
     "output_type": "stream",
     "text": [
      "Mean along the second axis: [2. 5.]\n",
      "Standard deviation along the second axis: [0.81649658 0.81649658]\n",
      "Variance along the second axis: [0.66666667 0.66666667]\n"
     ]
    }
   ],
   "source": [
    "array = np.array([[1, 2, 3],\n",
    "                  [4, 5, 6]])\n",
    "\n",
    "mean = np.mean(array, axis=1)\n",
    "std_dev = np.std(array, axis=1)\n",
    "variance = np.var(array, axis=1)\n",
    "\n",
    "print(\"Mean along the second axis:\", mean)\n",
    "print(\"Standard deviation along the second axis:\", std_dev)\n",
    "print(\"Variance along the second axis:\", variance)\n"
   ]
  }
 ],
 "metadata": {
  "kernelspec": {
   "display_name": "Python 3 (ipykernel)",
   "language": "python",
   "name": "python3"
  },
  "language_info": {
   "codemirror_mode": {
    "name": "ipython",
    "version": 3
   },
   "file_extension": ".py",
   "mimetype": "text/x-python",
   "name": "python",
   "nbconvert_exporter": "python",
   "pygments_lexer": "ipython3",
   "version": "3.11.7"
  }
 },
 "nbformat": 4,
 "nbformat_minor": 5
}
